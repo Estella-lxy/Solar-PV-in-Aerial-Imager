{
 "cells": [
  {
   "cell_type": "code",
   "execution_count": 1,
   "metadata": {},
   "outputs": [
    {
     "name": "stderr",
     "output_type": "stream",
     "text": [
      "Using TensorFlow backend.\n"
     ]
    }
   ],
   "source": [
    "import pandas as pd\n",
    "import numpy as np\n",
    "import matplotlib.pyplot as plt\n",
    "from keras.utils import np_utils\n",
    "from keras.models import Sequential\n",
    "from keras.layers import Dense, Activation, Conv2D,Convolution2D, MaxPooling2D, Flatten, Dropout\n",
    "from keras.optimizers import Adam,SGD\n",
    "from keras.preprocessing.image import ImageDataGenerator\n",
    "from keras.applications import VGG16"
   ]
  },
  {
   "cell_type": "code",
   "execution_count": 11,
   "metadata": {
    "collapsed": true
   },
   "outputs": [],
   "source": [
    "from PIL import Image\n",
    "def load_data_vgg(dir_data, dir_labels, training=True):\n",
    "    ''' Load each of the image files into memory\n",
    "\n",
    "    While this is feasible with a smaller dataset, for larger datasets,\n",
    "    not all the images would be able to be loaded into memory\n",
    "\n",
    "    When training=True, the labels are also loaded\n",
    "    '''\n",
    "    labels_pd = pd.read_csv(dir_labels)\n",
    "    ids       = labels_pd.id.values\n",
    "    data      = []\n",
    "    for identifier in ids:\n",
    "        fname = dir_data + identifier.astype(str) + '.tif'\n",
    "        img = Image.open('training/0.tif')\n",
    "        #resize to 224*224 for vgg model\n",
    "        #img = img.resize((224, 224), Image.ANTIALIAS)\n",
    "        img = (np.array(img)).astype(np.float32)\n",
    "        #data.append((np.array(img)).astype(np.float32))\n",
    "        data.append(img)\n",
    "    data = np.array(data) # Convert to Numpy array\n",
    "    if training:\n",
    "        labels = labels_pd.label.values\n",
    "        return data, labels\n",
    "    else:\n",
    "        return data, ids"
   ]
  },
  {
   "cell_type": "code",
   "execution_count": 12,
   "metadata": {
    "collapsed": true
   },
   "outputs": [],
   "source": [
    "train = load_data_vgg('training/','label/labels_training.csv')"
   ]
  },
  {
   "cell_type": "code",
   "execution_count": 13,
   "metadata": {
    "collapsed": true
   },
   "outputs": [],
   "source": [
    "test = load_data_vgg('testing/','submission.csv', training=False)"
   ]
  },
  {
   "cell_type": "code",
   "execution_count": 14,
   "metadata": {
    "collapsed": true
   },
   "outputs": [],
   "source": [
    "x_test = test[0]"
   ]
  },
  {
   "cell_type": "code",
   "execution_count": 15,
   "metadata": {
    "collapsed": true
   },
   "outputs": [],
   "source": [
    "#data pre-processing\n",
    "x_train = train[0] #1500*224*224*3\n",
    "y_train = train[1]\n",
    "y_train = np_utils.to_categorical(y_train, num_classes=2)"
   ]
  },
  {
   "cell_type": "code",
   "execution_count": 8,
   "metadata": {
    "collapsed": true
   },
   "outputs": [],
   "source": [
    "#normalization\n",
    "mean = x_train.mean()\n",
    "std = x_train.std()"
   ]
  },
  {
   "cell_type": "code",
   "execution_count": 9,
   "metadata": {
    "collapsed": true
   },
   "outputs": [],
   "source": [
    "x_train_norm = (x_train - mean)/std\n",
    "x_test_norm = (x_test - mean)/std"
   ]
  },
  {
   "cell_type": "code",
   "execution_count": 12,
   "metadata": {
    "collapsed": true
   },
   "outputs": [],
   "source": [
    "from keras.models import load_model\n",
    "trainFromFloys = load_model('vggBlock5.h5')"
   ]
  },
  {
   "cell_type": "code",
   "execution_count": 16,
   "metadata": {
    "collapsed": true
   },
   "outputs": [],
   "source": [
    "predict = trainFromFloys.predict(x_test_norm)"
   ]
  },
  {
   "cell_type": "code",
   "execution_count": 19,
   "metadata": {
    "collapsed": true
   },
   "outputs": [],
   "source": [
    "(pd.DataFrame(predict)).to_csv('predict.csv')"
   ]
  },
  {
   "cell_type": "code",
   "execution_count": null,
   "metadata": {
    "collapsed": true
   },
   "outputs": [],
   "source": [
    "predict_class = trainFromFloys.predict_classes(x_test_norm)"
   ]
  },
  {
   "cell_type": "code",
   "execution_count": 12,
   "metadata": {
    "collapsed": true
   },
   "outputs": [],
   "source": [
    "#split training and validation\n",
    "from sklearn.model_selection import train_test_split\n",
    "X_train, X_valid, Y_train, Y_valid = train_test_split(x_train_norm, y_train, test_size=0.2, random_state=42)"
   ]
  },
  {
   "cell_type": "code",
   "execution_count": 13,
   "metadata": {
    "collapsed": true
   },
   "outputs": [],
   "source": [
    "#https://www.learnopencv.com/keras-tutorial-fine-tuning-using-pre-trained-models/\n",
    "#Load the VGG model\n",
    "vgg_conv = VGG16(weights='imagenet', include_top=False, input_shape=(224,224,3))\n",
    "# Freeze the layers except the last 4 layers\n",
    "for layer in vgg_conv.layers[:-4]:\n",
    "    layer.trainable = False"
   ]
  },
  {
   "cell_type": "code",
   "execution_count": 14,
   "metadata": {
    "collapsed": true
   },
   "outputs": [],
   "source": [
    "vggBlock5 = Sequential()\n",
    "# Add the vgg convolutional base model\n",
    "vggBlock5.add(vgg_conv)\n",
    "# Add new layers\n",
    "vggBlock5.add(Flatten())\n",
    "vggBlock5.add(Dense(1024, activation='relu'))\n",
    "vggBlock5.add(Dropout(0.5))\n",
    "vggBlock5.add(Dense(2, activation='softmax'))"
   ]
  },
  {
   "cell_type": "code",
   "execution_count": 15,
   "metadata": {
    "collapsed": true
   },
   "outputs": [],
   "source": [
    "# Compile the model\n",
    "from keras.optimizers import RMSprop\n",
    "sgd = SGD(lr=1e-3, decay=0, momentum=0.9, nesterov=True)\n",
    "vggBlock5.compile(loss='binary_crossentropy',\n",
    "              #optimizer=RMSprop(lr=1e-4),\n",
    "                optimizer = sgd,\n",
    "              metrics=['acc'])"
   ]
  },
  {
   "cell_type": "code",
   "execution_count": null,
   "metadata": {},
   "outputs": [
    {
     "name": "stdout",
     "output_type": "stream",
     "text": [
      "Training ------------\n",
      "Train on 1200 samples, validate on 300 samples\n",
      "Epoch 1/6\n"
     ]
    }
   ],
   "source": [
    "print('Training ------------')#freeze\n",
    "vggBlock5.fit(X_train, Y_train, epochs = 6, \n",
    "              batch_size = 32, shuffle = True, \n",
    "              validation_data=(X_valid, Y_valid)) "
   ]
  },
  {
   "cell_type": "code",
   "execution_count": 30,
   "metadata": {},
   "outputs": [
    {
     "name": "stdout",
     "output_type": "stream",
     "text": [
      "_________________________________________________________________\n",
      "Layer (type)                 Output Shape              Param #   \n",
      "=================================================================\n",
      "input_8 (InputLayer)         (None, 224, 224, 3)       0         \n",
      "_________________________________________________________________\n",
      "block1_conv1 (Conv2D)        (None, 224, 224, 64)      1792      \n",
      "_________________________________________________________________\n",
      "block1_conv2 (Conv2D)        (None, 224, 224, 64)      36928     \n",
      "_________________________________________________________________\n",
      "block1_pool (MaxPooling2D)   (None, 112, 112, 64)      0         \n",
      "_________________________________________________________________\n",
      "block2_conv1 (Conv2D)        (None, 112, 112, 128)     73856     \n",
      "_________________________________________________________________\n",
      "block2_conv2 (Conv2D)        (None, 112, 112, 128)     147584    \n",
      "_________________________________________________________________\n",
      "block2_pool (MaxPooling2D)   (None, 56, 56, 128)       0         \n",
      "_________________________________________________________________\n",
      "block3_conv1 (Conv2D)        (None, 56, 56, 256)       295168    \n",
      "_________________________________________________________________\n",
      "block3_conv2 (Conv2D)        (None, 56, 56, 256)       590080    \n",
      "_________________________________________________________________\n",
      "block3_conv3 (Conv2D)        (None, 56, 56, 256)       590080    \n",
      "_________________________________________________________________\n",
      "block3_pool (MaxPooling2D)   (None, 28, 28, 256)       0         \n",
      "_________________________________________________________________\n",
      "block4_conv1 (Conv2D)        (None, 28, 28, 512)       1180160   \n",
      "_________________________________________________________________\n",
      "block4_conv2 (Conv2D)        (None, 28, 28, 512)       2359808   \n",
      "_________________________________________________________________\n",
      "block4_conv3 (Conv2D)        (None, 28, 28, 512)       2359808   \n",
      "_________________________________________________________________\n",
      "block4_pool (MaxPooling2D)   (None, 14, 14, 512)       0         \n",
      "_________________________________________________________________\n",
      "block5_conv1 (Conv2D)        (None, 14, 14, 512)       2359808   \n",
      "_________________________________________________________________\n",
      "block5_conv2 (Conv2D)        (None, 14, 14, 512)       2359808   \n",
      "_________________________________________________________________\n",
      "block5_conv3 (Conv2D)        (None, 14, 14, 512)       2359808   \n",
      "_________________________________________________________________\n",
      "block5_pool (MaxPooling2D)   (None, 7, 7, 512)         0         \n",
      "_________________________________________________________________\n",
      "flatten (Flatten)            (None, 25088)             0         \n",
      "_________________________________________________________________\n",
      "fc1 (Dense)                  (None, 4096)              102764544 \n",
      "_________________________________________________________________\n",
      "fc2 (Dense)                  (None, 4096)              16781312  \n",
      "_________________________________________________________________\n",
      "predictions (Dense)          (None, 1000)              4097000   \n",
      "=================================================================\n",
      "Total params: 138,357,544\n",
      "Trainable params: 138,357,544\n",
      "Non-trainable params: 0\n",
      "_________________________________________________________________\n"
     ]
    }
   ],
   "source": [
    "#build fine-tuned VGG16 mode\n",
    "from keras.applications.vgg16 import VGG16\n",
    "vgg16_model = VGG16()\n",
    "vgg16_model.summary()"
   ]
  },
  {
   "cell_type": "code",
   "execution_count": 31,
   "metadata": {},
   "outputs": [
    {
     "data": {
      "text/plain": [
       "keras.engine.training.Model"
      ]
     },
     "execution_count": 31,
     "metadata": {},
     "output_type": "execute_result"
    }
   ],
   "source": [
    "type(vgg16_model)"
   ]
  },
  {
   "cell_type": "code",
   "execution_count": 47,
   "metadata": {
    "collapsed": true
   },
   "outputs": [],
   "source": [
    "#convert pre-trained model to sequential one\n",
    "model = Sequential()\n",
    "for layer in vgg16_model.layers[:-1]: #not add the 1000 output layer\n",
    "    model.add(layer)"
   ]
  },
  {
   "cell_type": "code",
   "execution_count": 48,
   "metadata": {},
   "outputs": [
    {
     "name": "stdout",
     "output_type": "stream",
     "text": [
      "_________________________________________________________________\n",
      "Layer (type)                 Output Shape              Param #   \n",
      "=================================================================\n",
      "block1_conv1 (Conv2D)        (None, 224, 224, 64)      1792      \n",
      "_________________________________________________________________\n",
      "block1_conv2 (Conv2D)        (None, 224, 224, 64)      36928     \n",
      "_________________________________________________________________\n",
      "block1_pool (MaxPooling2D)   (None, 112, 112, 64)      0         \n",
      "_________________________________________________________________\n",
      "block2_conv1 (Conv2D)        (None, 112, 112, 128)     73856     \n",
      "_________________________________________________________________\n",
      "block2_conv2 (Conv2D)        (None, 112, 112, 128)     147584    \n",
      "_________________________________________________________________\n",
      "block2_pool (MaxPooling2D)   (None, 56, 56, 128)       0         \n",
      "_________________________________________________________________\n",
      "block3_conv1 (Conv2D)        (None, 56, 56, 256)       295168    \n",
      "_________________________________________________________________\n",
      "block3_conv2 (Conv2D)        (None, 56, 56, 256)       590080    \n",
      "_________________________________________________________________\n",
      "block3_conv3 (Conv2D)        (None, 56, 56, 256)       590080    \n",
      "_________________________________________________________________\n",
      "block3_pool (MaxPooling2D)   (None, 28, 28, 256)       0         \n",
      "_________________________________________________________________\n",
      "block4_conv1 (Conv2D)        (None, 28, 28, 512)       1180160   \n",
      "_________________________________________________________________\n",
      "block4_conv2 (Conv2D)        (None, 28, 28, 512)       2359808   \n",
      "_________________________________________________________________\n",
      "block4_conv3 (Conv2D)        (None, 28, 28, 512)       2359808   \n",
      "_________________________________________________________________\n",
      "block4_pool (MaxPooling2D)   (None, 14, 14, 512)       0         \n",
      "_________________________________________________________________\n",
      "block5_conv1 (Conv2D)        (None, 14, 14, 512)       2359808   \n",
      "_________________________________________________________________\n",
      "block5_conv2 (Conv2D)        (None, 14, 14, 512)       2359808   \n",
      "_________________________________________________________________\n",
      "block5_conv3 (Conv2D)        (None, 14, 14, 512)       2359808   \n",
      "_________________________________________________________________\n",
      "block5_pool (MaxPooling2D)   (None, 7, 7, 512)         0         \n",
      "_________________________________________________________________\n",
      "flatten (Flatten)            (None, 25088)             0         \n",
      "_________________________________________________________________\n",
      "fc1 (Dense)                  (None, 4096)              102764544 \n",
      "_________________________________________________________________\n",
      "fc2 (Dense)                  (None, 4096)              16781312  \n",
      "=================================================================\n",
      "Total params: 134,260,544\n",
      "Trainable params: 134,260,544\n",
      "Non-trainable params: 0\n",
      "_________________________________________________________________\n"
     ]
    }
   ],
   "source": [
    "model.summary()"
   ]
  },
  {
   "cell_type": "code",
   "execution_count": 49,
   "metadata": {
    "collapsed": true
   },
   "outputs": [],
   "source": [
    "for layer in model.layers:\n",
    "    layer.trainable = False"
   ]
  },
  {
   "cell_type": "code",
   "execution_count": 50,
   "metadata": {
    "collapsed": true
   },
   "outputs": [],
   "source": [
    "model.add(Dense(2, activation='softmax'))"
   ]
  },
  {
   "cell_type": "code",
   "execution_count": 52,
   "metadata": {
    "collapsed": true
   },
   "outputs": [],
   "source": [
    "model.compile(Adam(lr=0.0001), loss='binary_crossentropy',metrics=['accuracy'])"
   ]
  },
  {
   "cell_type": "code",
   "execution_count": 71,
   "metadata": {},
   "outputs": [
    {
     "name": "stdout",
     "output_type": "stream",
     "text": [
      "Training ------------\n",
      "Train on 1200 samples, validate on 300 samples\n",
      "Epoch 1/12\n",
      "1200/1200 [==============================] - 1028s 856ms/step - loss: 0.6426 - acc: 0.6667 - val_loss: 0.6544 - val_acc: 0.6500\n",
      "Epoch 2/12\n",
      "1200/1200 [==============================] - 27462s 23s/step - loss: 0.6391 - acc: 0.6667 - val_loss: 0.6501 - val_acc: 0.6500\n",
      "Epoch 3/12\n",
      "1200/1200 [==============================] - 1029s 858ms/step - loss: 0.6383 - acc: 0.6667 - val_loss: 0.6596 - val_acc: 0.6500\n",
      "Epoch 4/12\n",
      "1200/1200 [==============================] - 1210s 1s/step - loss: 0.6401 - acc: 0.6667 - val_loss: 0.6516 - val_acc: 0.6500\n",
      "Epoch 5/12\n",
      "1200/1200 [==============================] - 1453s 1s/step - loss: 0.6463 - acc: 0.6667 - val_loss: 0.6524 - val_acc: 0.6500\n",
      "Epoch 6/12\n",
      "1200/1200 [==============================] - 3620s 3s/step - loss: 0.6443 - acc: 0.6667 - val_loss: 0.6477 - val_acc: 0.6500\n",
      "Epoch 7/12\n",
      "1200/1200 [==============================] - 1061s 884ms/step - loss: 0.6409 - acc: 0.6667 - val_loss: 0.6560 - val_acc: 0.6500\n",
      "Epoch 8/12\n",
      "1200/1200 [==============================] - 1069s 891ms/step - loss: 0.6414 - acc: 0.6667 - val_loss: 0.6609 - val_acc: 0.6500\n",
      "Epoch 9/12\n",
      "1200/1200 [==============================] - 1052s 877ms/step - loss: 0.6407 - acc: 0.6667 - val_loss: 0.6513 - val_acc: 0.6500\n",
      "Epoch 10/12\n",
      "1200/1200 [==============================] - 1932s 2s/step - loss: 0.6402 - acc: 0.6667 - val_loss: 0.6602 - val_acc: 0.6500\n",
      "Epoch 11/12\n",
      "1200/1200 [==============================] - 1037s 864ms/step - loss: 0.6412 - acc: 0.6667 - val_loss: 0.6510 - val_acc: 0.6500\n",
      "Epoch 12/12\n",
      "1200/1200 [==============================] - 1656s 1s/step - loss: 0.6384 - acc: 0.6667 - val_loss: 0.6475 - val_acc: 0.6500\n"
     ]
    },
    {
     "data": {
      "text/plain": [
       "<keras.callbacks.History at 0x119249588>"
      ]
     },
     "execution_count": 71,
     "metadata": {},
     "output_type": "execute_result"
    }
   ],
   "source": [
    "print('Training ------------')#freeze\n",
    "model.fit(x_train, y_train, epochs = 12, batch_size = 64, shuffle = True, validation_split=0.2) "
   ]
  },
  {
   "cell_type": "code",
   "execution_count": 73,
   "metadata": {
    "collapsed": true
   },
   "outputs": [],
   "source": [
    "model.save('freezeAllVgg16.h5')"
   ]
  },
  {
   "cell_type": "code",
   "execution_count": 84,
   "metadata": {},
   "outputs": [
    {
     "data": {
      "image/png": "[encoded data removed]",
      "text/plain": [
       "<Figure size 432x288 with 1 Axes>"
      ]
     },
     "metadata": {},
     "output_type": "display_data"
    },
    {
     "data": {
      "image/png": "[encoded data removed]",
      "text/plain": [
       "<Figure size 432x288 with 1 Axes>"
      ]
     },
     "metadata": {},
     "output_type": "display_data"
    }
   ],
   "source": [
    "#check performance\n",
    "acc = model.history.history['acc']\n",
    "val_acc = model.history.history['val_acc']\n",
    "loss = model.history.history['loss']\n",
    "val_loss = model.history.history['val_loss']\n",
    " \n",
    "epochs = range(len(acc))\n",
    " \n",
    "plt.plot(epochs, acc, 'b', label='Training acc')\n",
    "plt.plot(epochs, val_acc, 'r', label='Validation acc')\n",
    "plt.title('Training and validation accuracy of freezeAllVgg16 model')\n",
    "plt.xlabel('epoch')\n",
    "plt.ylabel('BCE')\n",
    "plt.legend()\n",
    " \n",
    "plt.figure()\n",
    " \n",
    "plt.plot(epochs, loss, 'b', label='Training loss')\n",
    "plt.plot(epochs, val_loss, 'r', label='Validation loss')\n",
    "plt.title('Training and validation loss of freezeAllVgg16 model')\n",
    "plt.xlabel('epoch')\n",
    "plt.ylabel('BCE')\n",
    "plt.legend()\n",
    " \n",
    "plt.show()"
   ]
  },
  {
   "cell_type": "code",
   "execution_count": 88,
   "metadata": {
    "collapsed": true
   },
   "outputs": [],
   "source": [
    "prob_vggfreezeall = model.predict_proba(x_test)"
   ]
  },
  {
   "cell_type": "code",
   "execution_count": 92,
   "metadata": {
    "collapsed": true
   },
   "outputs": [],
   "source": [
    "prob_vggfreezeall_1 = pd.DataFrame(prob_vggfreezeall[:,1])\n",
    "prob_vggfreezeall_1.to_csv('vggfreezeall.csv')"
   ]
  },
  {
   "cell_type": "code",
   "execution_count": null,
   "metadata": {
    "collapsed": true
   },
   "outputs": [],
   "source": [
    "#alexnet: https://github.com/d2l-ai/d2l-zh/blob/master/chapter_convolutional-neural-networks/alexnet.md\n",
    "net = "
   ]
  },
  {
   "cell_type": "code",
   "execution_count": 11,
   "metadata": {
    "collapsed": true,
    "scrolled": true
   },
   "outputs": [],
   "source": [
    "#coding=utf-8\n",
    "#zfnet model\n",
    "from keras.models import Sequential\n",
    "from keras.layers import Dense,Flatten,Dropout\n",
    "from keras.layers.convolutional import Conv2D,MaxPooling2D\n",
    "from keras.utils.np_utils import to_categorical\n",
    "import numpy as np\n",
    "seed = 7\n",
    "np.random.seed(seed)\n",
    " \n",
    "zfnet = Sequential()\n",
    "zfnet.add(Conv2D(96,(7,7),strides=(2,2),input_shape=(224,224,3),padding='valid',activation='relu',kernel_initializer='uniform'))\n",
    "zfnet.add(MaxPooling2D(pool_size=(3,3),strides=(2,2)))\n",
    "zfnet.add(Conv2D(256,(5,5),strides=(2,2),padding='same',activation='relu',kernel_initializer='uniform'))\n",
    "zfnet.add(MaxPooling2D(pool_size=(3,3),strides=(2,2)))\n",
    "zfnet.add(Conv2D(384,(3,3),strides=(1,1),padding='same',activation='relu',kernel_initializer='uniform'))\n",
    "zfnet.add(Conv2D(384,(3,3),strides=(1,1),padding='same',activation='relu',kernel_initializer='uniform'))\n",
    "zfnet.add(Conv2D(256,(3,3),strides=(1,1),padding='same',activation='relu',kernel_initializer='uniform'))\n",
    "zfnet.add(MaxPooling2D(pool_size=(3,3),strides=(2,2)))\n",
    "zfnet.add(Flatten())\n",
    "zfnet.add(Dense(4096,activation='relu'))\n",
    "zfnet.add(Dropout(0.5))\n",
    "zfnet.add(Dense(4096,activation='relu'))\n",
    "zfnet.add(Dropout(0.5))\n",
    "zfnet.add(Dense(2,activation='softmax'))\n",
    "#sgd_opt = SGD(lr = 1e-4)\n",
    "sgd = SGD(lr=1e-5, decay=1e-6, momentum=0.9, nesterov=True)\n",
    "adam = Adam(lr=1e-4, decay=0.0)\n",
    "zfnet.compile(loss='binary_crossentropy',optimizer=adam,metrics=['accuracy'])\n",
    "#zfnet.summary()"
   ]
  },
  {
   "cell_type": "code",
   "execution_count": 12,
   "metadata": {},
   "outputs": [
    {
     "name": "stdout",
     "output_type": "stream",
     "text": [
      "Training ------------\n",
      "Train on 1200 samples, validate on 300 samples\n",
      "Epoch 1/2\n",
      "1200/1200 [==============================] - 191s 159ms/step - loss: 6.2788 - acc: 0.6050 - val_loss: 5.6106 - val_acc: 0.6500\n",
      "Epoch 2/2\n",
      "1200/1200 [==============================] - 499s 416ms/step - loss: 5.3434 - acc: 0.6667 - val_loss: 5.6106 - val_acc: 0.6500\n"
     ]
    },
    {
     "data": {
      "text/plain": [
       "<keras.callbacks.History at 0xb2f8990b8>"
      ]
     },
     "execution_count": 12,
     "metadata": {},
     "output_type": "execute_result"
    }
   ],
   "source": [
    "print('Training ------------')#zfnet, optimization = SGD(lr=1e-5, decay=1e-6, momentum=0.9, nesterov=True)\n",
    "zfnet.fit(x_train, y_train, epochs = 2, batch_size = 32, shuffle = True, validation_split=0.2) "
   ]
  },
  {
   "cell_type": "code",
   "execution_count": 126,
   "metadata": {
    "collapsed": true
   },
   "outputs": [],
   "source": [
    "zfnet.save('zfnetWithoutNormalization.h5')"
   ]
  },
  {
   "cell_type": "code",
   "execution_count": 128,
   "metadata": {},
   "outputs": [
    {
     "data": {
      "image/png": "[encoded data removed]",
      "text/plain": [
       "<Figure size 432x288 with 1 Axes>"
      ]
     },
     "metadata": {},
     "output_type": "display_data"
    },
    {
     "data": {
      "image/png": "[encoded data removed]",
      "text/plain": [
       "<Figure size 432x288 with 1 Axes>"
      ]
     },
     "metadata": {},
     "output_type": "display_data"
    }
   ],
   "source": [
    "#check performance\n",
    "acc = zfnet.history.history['acc']\n",
    "val_acc = zfnet.history.history['val_acc']\n",
    "loss = zfnet.history.history['loss']\n",
    "val_loss = zfnet.history.history['val_loss']\n",
    " \n",
    "epochs = range(len(acc))\n",
    " \n",
    "plt.plot(epochs, acc, 'b', label='Training acc')\n",
    "plt.plot(epochs, val_acc, 'r', label='Validation acc')\n",
    "plt.title('Training and validation accuracy of zfnet model')\n",
    "plt.xlabel('epoch')\n",
    "plt.ylabel('accuracy')\n",
    "plt.legend()\n",
    " \n",
    "plt.figure()\n",
    " \n",
    "plt.plot(epochs, loss, 'b', label='Training loss')\n",
    "plt.plot(epochs, val_loss, 'r', label='Validation loss')\n",
    "plt.title('Training and validation loss of zfnet model')\n",
    "plt.xlabel('epoch')\n",
    "plt.ylabel('BCE')\n",
    "plt.legend()\n",
    " \n",
    "plt.show()"
   ]
  },
  {
   "cell_type": "code",
   "execution_count": 42,
   "metadata": {
    "collapsed": true
   },
   "outputs": [],
   "source": [
    "from keras.preprocessing.image import ImageDataGenerator\n",
    "train_datagen = ImageDataGenerator(\n",
    "      rescale=1./255,\n",
    "      rotation_range=20,\n",
    "      width_shift_range=0.2,\n",
    "      height_shift_range=0.2,\n",
    "      horizontal_flip=True,\n",
    "      fill_mode='nearest')\n",
    "validation_datagen = ImageDataGenerator(rescale=1./255)"
   ]
  },
  {
   "cell_type": "code",
   "execution_count": 43,
   "metadata": {},
   "outputs": [
    {
     "name": "stdout",
     "output_type": "stream",
     "text": [
      "Found 1200 images belonging to 3 classes.\n",
      "Found 300 images belonging to 2 classes.\n"
     ]
    }
   ],
   "source": [
    "# Change the batchsize according to your system RAM\n",
    "train_batchsize = 100\n",
    "val_batchsize = 10\n",
    " \n",
    "train_generator = train_datagen.flow_from_directory(\n",
    "        'training_copy/Generator_Train/',\n",
    "        target_size=(224, 224),\n",
    "        batch_size=train_batchsize,\n",
    "        class_mode='binary')\n",
    " \n",
    "validation_generator = validation_datagen.flow_from_directory(\n",
    "        'training_copy/Generator_Valid/',\n",
    "        target_size=(224, 224),\n",
    "        batch_size=val_batchsize,\n",
    "        class_mode='binary',\n",
    "        shuffle=False)"
   ]
  },
  {
   "cell_type": "code",
   "execution_count": 9,
   "metadata": {
    "collapsed": true
   },
   "outputs": [],
   "source": [
    "#data pre-processing\n",
    "x_train = train[0] #1500*101*101*3\n",
    "y_train = train[1]\n",
    "x_train = x_train.astype('float32')\n",
    "x_train /= 255\n",
    "y_train = np_utils.to_categorical(y_train, num_classes=2)"
   ]
  },
  {
   "cell_type": "code",
   "execution_count": 10,
   "metadata": {
    "collapsed": true
   },
   "outputs": [],
   "source": [
    "x_test = test[0] #558, 101, 101, 3"
   ]
  },
  {
   "cell_type": "code",
   "execution_count": 8,
   "metadata": {
    "collapsed": true
   },
   "outputs": [],
   "source": [
    "img_rows = 101\n",
    "img_cols = 101\n",
    "channels = 3"
   ]
  },
  {
   "cell_type": "code",
   "execution_count": 20,
   "metadata": {
    "collapsed": true
   },
   "outputs": [],
   "source": [
    "#build model\n",
    "model = Sequential()\n",
    "#Conv layer1 output \n",
    "model.add(Convolution2D(input_shape = (img_rows, img_cols, channels),filters = 32,kernel_size = 5,\n",
    "                        strides = 1,padding = 'same'))\n",
    "#activation function\n",
    "model.add(Activation('relu'))\n",
    "#pooling layer1 (max pooling)\n",
    "model.add(MaxPooling2D(pool_size = 2,strides = 2,padding = 'same'))\n",
    "#Conv layer2\n",
    "model.add(Convolution2D(filters = 32,kernel_size = 5,strides = 1,padding = 'same'))\n",
    "#activation function\n",
    "model.add(Activation('relu'))\n",
    "#pooling layer2 (max pooling)\n",
    "model.add(MaxPooling2D(pool_size = 2,strides = 2,padding = 'same'))\n",
    "#Conv layer3\n",
    "model.add(Convolution2D(filters = 32,kernel_size = 5,strides = 1,padding = 'same'))\n",
    "#activation function\n",
    "model.add(Activation('relu'))\n",
    "#pooling layer3 (max pooling)\n",
    "model.add(MaxPooling2D(pool_size = 2,strides = 2,padding = 'same'))\n",
    "#drop out\n",
    "#model.add(Dropout(0.25))\n",
    "#fully connected layer1\n",
    "model.add(Flatten())\n",
    "model.add(Dense(128))\n",
    "model.add(Activation('relu'))\n",
    "#fully connected layer2 \n",
    "#model.add(Dropout(0.25))\n",
    "model.add(Dense(2))\n",
    "model.add(Activation('softmax'))\n",
    "#define the optimizer\n",
    "adam = Adam(lr = 1e-4)\n",
    "sgd = SGD(lr=0.001, decay=1e-6, momentum=0.9, nesterov=True)\n",
    "#metrics\n",
    "model.compile(optimizer =sgd,\n",
    "             loss = 'categorical_crossentropy',\n",
    "             metrics = ['accuracy'])"
   ]
  },
  {
   "cell_type": "code",
   "execution_count": 115,
   "metadata": {
    "collapsed": true
   },
   "outputs": [],
   "source": [
    "np.set_printoptions(threshold=np.inf)\n",
    "np.set_printoptions(suppress=True)\n",
    "prob = model.predict_proba(x_test)"
   ]
  },
  {
   "cell_type": "code",
   "execution_count": 117,
   "metadata": {
    "collapsed": true
   },
   "outputs": [],
   "source": [
    "prob_1 = pd.DataFrame(prob[:,1])"
   ]
  },
  {
   "cell_type": "code",
   "execution_count": 125,
   "metadata": {
    "collapsed": true
   },
   "outputs": [],
   "source": [
    "result = pd.read_csv('submission.csv')"
   ]
  },
  {
   "cell_type": "code",
   "execution_count": 121,
   "metadata": {
    "collapsed": true
   },
   "outputs": [],
   "source": [
    "np.set_printoptions(suppress=True)\n",
    "prob_1.to_csv('result.csv')"
   ]
  },
  {
   "cell_type": "code",
   "execution_count": 23,
   "metadata": {},
   "outputs": [
    {
     "name": "stdout",
     "output_type": "stream",
     "text": [
      "Training ------------\n",
      "Train on 1200 samples, validate on 300 samples\n",
      "Epoch 1/24\n",
      "1200/1200 [==============================] - 31s 26ms/step - loss: 5.3727 - acc: 0.6667 - val_loss: 5.6413 - val_acc: 0.6500\n",
      "Epoch 2/24\n",
      "1200/1200 [==============================] - 29s 24ms/step - loss: 5.3727 - acc: 0.6667 - val_loss: 5.6413 - val_acc: 0.6500\n",
      "Epoch 3/24\n",
      "1200/1200 [==============================] - 30s 25ms/step - loss: 5.3727 - acc: 0.6667 - val_loss: 5.6413 - val_acc: 0.6500\n",
      "Epoch 4/24\n",
      "1200/1200 [==============================] - 28s 24ms/step - loss: 5.3727 - acc: 0.6667 - val_loss: 5.6413 - val_acc: 0.6500\n",
      "Epoch 5/24\n",
      "1200/1200 [==============================] - 33s 27ms/step - loss: 5.3727 - acc: 0.6667 - val_loss: 5.6413 - val_acc: 0.6500\n",
      "Epoch 6/24\n",
      "1200/1200 [==============================] - 28s 24ms/step - loss: 5.3727 - acc: 0.6667 - val_loss: 5.6413 - val_acc: 0.6500\n",
      "Epoch 7/24\n",
      "1200/1200 [==============================] - 30s 25ms/step - loss: 5.3727 - acc: 0.6667 - val_loss: 5.6413 - val_acc: 0.6500\n",
      "Epoch 8/24\n",
      "1200/1200 [==============================] - 29s 24ms/step - loss: 5.3727 - acc: 0.6667 - val_loss: 5.6413 - val_acc: 0.6500\n",
      "Epoch 9/24\n",
      "1200/1200 [==============================] - 29s 24ms/step - loss: 5.3727 - acc: 0.6667 - val_loss: 5.6413 - val_acc: 0.6500\n",
      "Epoch 10/24\n",
      "1200/1200 [==============================] - 29s 24ms/step - loss: 5.3727 - acc: 0.6667 - val_loss: 5.6413 - val_acc: 0.6500\n",
      "Epoch 11/24\n",
      "1200/1200 [==============================] - 28s 24ms/step - loss: 5.3727 - acc: 0.6667 - val_loss: 5.6413 - val_acc: 0.6500\n",
      "Epoch 12/24\n",
      "1200/1200 [==============================] - 28s 23ms/step - loss: 5.3727 - acc: 0.6667 - val_loss: 5.6413 - val_acc: 0.6500\n",
      "Epoch 13/24\n",
      "1200/1200 [==============================] - 31s 26ms/step - loss: 5.3727 - acc: 0.6667 - val_loss: 5.6413 - val_acc: 0.6500\n",
      "Epoch 14/24\n",
      "1200/1200 [==============================] - 31s 26ms/step - loss: 5.3727 - acc: 0.6667 - val_loss: 5.6413 - val_acc: 0.6500\n",
      "Epoch 15/24\n",
      "1200/1200 [==============================] - 32s 26ms/step - loss: 5.3727 - acc: 0.6667 - val_loss: 5.6413 - val_acc: 0.6500\n",
      "Epoch 16/24\n",
      "1200/1200 [==============================] - 31s 25ms/step - loss: 5.3727 - acc: 0.6667 - val_loss: 5.6413 - val_acc: 0.6500\n",
      "Epoch 17/24\n",
      "1200/1200 [==============================] - 31s 26ms/step - loss: 5.3727 - acc: 0.6667 - val_loss: 5.6413 - val_acc: 0.6500\n",
      "Epoch 18/24\n",
      "1200/1200 [==============================] - 30s 25ms/step - loss: 5.3727 - acc: 0.6667 - val_loss: 5.6413 - val_acc: 0.6500\n",
      "Epoch 19/24\n",
      "1200/1200 [==============================] - 29s 25ms/step - loss: 5.3727 - acc: 0.6667 - val_loss: 5.6413 - val_acc: 0.6500\n",
      "Epoch 20/24\n",
      "1200/1200 [==============================] - 29s 24ms/step - loss: 5.3727 - acc: 0.6667 - val_loss: 5.6413 - val_acc: 0.6500\n",
      "Epoch 21/24\n",
      "1200/1200 [==============================] - 32s 27ms/step - loss: 5.3727 - acc: 0.6667 - val_loss: 5.6413 - val_acc: 0.6500\n",
      "Epoch 22/24\n",
      "1200/1200 [==============================] - 29s 24ms/step - loss: 5.3727 - acc: 0.6667 - val_loss: 5.6413 - val_acc: 0.6500\n",
      "Epoch 23/24\n",
      "1200/1200 [==============================] - 31s 26ms/step - loss: 5.3727 - acc: 0.6667 - val_loss: 5.6413 - val_acc: 0.6500\n",
      "Epoch 24/24\n",
      "1200/1200 [==============================] - 28s 23ms/step - loss: 5.3727 - acc: 0.6667 - val_loss: 5.6413 - val_acc: 0.6500\n"
     ]
    },
    {
     "data": {
      "text/plain": [
       "<keras.callbacks.History at 0xb2d50f4a8>"
      ]
     },
     "execution_count": 23,
     "metadata": {},
     "output_type": "execute_result"
    }
   ],
   "source": [
    "print('Training ------------')\n",
    "model.fit(x_train, y_train, epochs = 24, batch_size = 32, shuffle = True, validation_split=0.2) #lr=1e-4"
   ]
  },
  {
   "cell_type": "code",
   "execution_count": 80,
   "metadata": {},
   "outputs": [
    {
     "name": "stdout",
     "output_type": "stream",
     "text": [
      "Training ------------\n",
      "Epoch 1/24\n",
      "1500/1500 [==============================] - 36s 24ms/step - loss: 0.5405 - acc: 0.7433\n",
      "Epoch 2/24\n",
      "1500/1500 [==============================] - 36s 24ms/step - loss: 0.5256 - acc: 0.7520\n",
      "Epoch 3/24\n",
      "1500/1500 [==============================] - 35s 23ms/step - loss: 0.5035 - acc: 0.7720\n",
      "Epoch 4/24\n",
      "1500/1500 [==============================] - 33s 22ms/step - loss: 0.5096 - acc: 0.7620\n",
      "Epoch 5/24\n",
      "1500/1500 [==============================] - 35s 23ms/step - loss: 0.4850 - acc: 0.7840\n",
      "Epoch 6/24\n",
      "1500/1500 [==============================] - 37s 25ms/step - loss: 0.4978 - acc: 0.7560\n",
      "Epoch 7/24\n",
      "1500/1500 [==============================] - 49s 32ms/step - loss: 0.4677 - acc: 0.7973\n",
      "Epoch 8/24\n",
      "1500/1500 [==============================] - 38s 25ms/step - loss: 0.4551 - acc: 0.8053\n",
      "Epoch 9/24\n",
      "1500/1500 [==============================] - 40s 26ms/step - loss: 0.4487 - acc: 0.8020\n",
      "Epoch 10/24\n",
      "1500/1500 [==============================] - 40s 26ms/step - loss: 0.4567 - acc: 0.7847\n",
      "Epoch 11/24\n",
      "1500/1500 [==============================] - 40s 27ms/step - loss: 0.4615 - acc: 0.7907\n",
      "Epoch 12/24\n",
      "1500/1500 [==============================] - 40s 27ms/step - loss: 0.4345 - acc: 0.8200\n",
      "Epoch 13/24\n",
      "1500/1500 [==============================] - 39s 26ms/step - loss: 0.4642 - acc: 0.7813\n",
      "Epoch 14/24\n",
      "1500/1500 [==============================] - 55s 36ms/step - loss: 0.4697 - acc: 0.7700\n",
      "Epoch 15/24\n",
      "1500/1500 [==============================] - 41s 27ms/step - loss: 0.4245 - acc: 0.8167\n",
      "Epoch 16/24\n",
      "1500/1500 [==============================] - 37s 25ms/step - loss: 0.4169 - acc: 0.8127\n",
      "Epoch 17/24\n",
      "1500/1500 [==============================] - 263s 175ms/step - loss: 0.4044 - acc: 0.8333\n",
      "Epoch 18/24\n",
      "1500/1500 [==============================] - 40s 27ms/step - loss: 0.4257 - acc: 0.7960\n",
      "Epoch 19/24\n",
      "1500/1500 [==============================] - 38s 25ms/step - loss: 0.4227 - acc: 0.8073\n",
      "Epoch 20/24\n",
      "1500/1500 [==============================] - 37s 25ms/step - loss: 0.4047 - acc: 0.8327\n",
      "Epoch 21/24\n",
      "1500/1500 [==============================] - 38s 25ms/step - loss: 0.4025 - acc: 0.8193\n",
      "Epoch 22/24\n",
      "1500/1500 [==============================] - 42s 28ms/step - loss: 0.3804 - acc: 0.8407\n",
      "Epoch 23/24\n",
      "1500/1500 [==============================] - 38s 26ms/step - loss: 0.3898 - acc: 0.8267\n",
      "Epoch 24/24\n",
      "1500/1500 [==============================] - 38s 25ms/step - loss: 0.3749 - acc: 0.8473\n"
     ]
    },
    {
     "data": {
      "text/plain": [
       "<keras.callbacks.History at 0xb428797b8>"
      ]
     },
     "execution_count": 80,
     "metadata": {},
     "output_type": "execute_result"
    }
   ],
   "source": [
    "print('Training ------------')\n",
    "model.fit(x_train, y_train, epochs = 24, batch_size = 128) #lr=1e-4, 3 conv layers"
   ]
  },
  {
   "cell_type": "code",
   "execution_count": 41,
   "metadata": {
    "collapsed": true
   },
   "outputs": [],
   "source": [
    "res = pd.read_csv('/Users/meteor.lxy/Desktop/resnet.csv')"
   ]
  },
  {
   "cell_type": "code",
   "execution_count": 42,
   "metadata": {},
   "outputs": [
    {
     "data": {
      "text/html": [
       "<div>\n",
       "<style scoped>\n",
       "    .dataframe tbody tr th:only-of-type {\n",
       "        vertical-align: middle;\n",
       "    }\n",
       "\n",
       "    .dataframe tbody tr th {\n",
       "        vertical-align: top;\n",
       "    }\n",
       "\n",
       "    .dataframe thead th {\n",
       "        text-align: right;\n",
       "    }\n",
       "</style>\n",
       "<table border=\"1\" class=\"dataframe\">\n",
       "  <thead>\n",
       "    <tr style=\"text-align: right;\">\n",
       "      <th></th>\n",
       "      <th>epoch</th>\n",
       "      <th>train_loss</th>\n",
       "      <th>valid_loss</th>\n",
       "      <th>accuracy</th>\n",
       "    </tr>\n",
       "  </thead>\n",
       "  <tbody>\n",
       "    <tr>\n",
       "      <th>0</th>\n",
       "      <td>1</td>\n",
       "      <td>0.021245</td>\n",
       "      <td>0.123908</td>\n",
       "      <td>0.980000</td>\n",
       "    </tr>\n",
       "    <tr>\n",
       "      <th>1</th>\n",
       "      <td>2</td>\n",
       "      <td>0.011410</td>\n",
       "      <td>0.088947</td>\n",
       "      <td>0.986667</td>\n",
       "    </tr>\n",
       "    <tr>\n",
       "      <th>2</th>\n",
       "      <td>3</td>\n",
       "      <td>0.007762</td>\n",
       "      <td>0.075918</td>\n",
       "      <td>0.990000</td>\n",
       "    </tr>\n",
       "    <tr>\n",
       "      <th>3</th>\n",
       "      <td>4</td>\n",
       "      <td>0.008306</td>\n",
       "      <td>0.109976</td>\n",
       "      <td>0.986667</td>\n",
       "    </tr>\n",
       "    <tr>\n",
       "      <th>4</th>\n",
       "      <td>5</td>\n",
       "      <td>0.007533</td>\n",
       "      <td>0.078560</td>\n",
       "      <td>0.980000</td>\n",
       "    </tr>\n",
       "    <tr>\n",
       "      <th>5</th>\n",
       "      <td>6</td>\n",
       "      <td>0.010514</td>\n",
       "      <td>0.079959</td>\n",
       "      <td>0.986667</td>\n",
       "    </tr>\n",
       "    <tr>\n",
       "      <th>6</th>\n",
       "      <td>7</td>\n",
       "      <td>0.008497</td>\n",
       "      <td>0.074331</td>\n",
       "      <td>0.990000</td>\n",
       "    </tr>\n",
       "    <tr>\n",
       "      <th>7</th>\n",
       "      <td>8</td>\n",
       "      <td>0.007908</td>\n",
       "      <td>0.094478</td>\n",
       "      <td>0.986667</td>\n",
       "    </tr>\n",
       "    <tr>\n",
       "      <th>8</th>\n",
       "      <td>9</td>\n",
       "      <td>0.008733</td>\n",
       "      <td>0.103178</td>\n",
       "      <td>0.990000</td>\n",
       "    </tr>\n",
       "    <tr>\n",
       "      <th>9</th>\n",
       "      <td>10</td>\n",
       "      <td>0.007292</td>\n",
       "      <td>0.086293</td>\n",
       "      <td>0.990000</td>\n",
       "    </tr>\n",
       "    <tr>\n",
       "      <th>10</th>\n",
       "      <td>11</td>\n",
       "      <td>0.007617</td>\n",
       "      <td>0.094433</td>\n",
       "      <td>0.983333</td>\n",
       "    </tr>\n",
       "    <tr>\n",
       "      <th>11</th>\n",
       "      <td>12</td>\n",
       "      <td>0.012549</td>\n",
       "      <td>0.100814</td>\n",
       "      <td>0.983333</td>\n",
       "    </tr>\n",
       "    <tr>\n",
       "      <th>12</th>\n",
       "      <td>13</td>\n",
       "      <td>0.010084</td>\n",
       "      <td>0.081244</td>\n",
       "      <td>0.983333</td>\n",
       "    </tr>\n",
       "    <tr>\n",
       "      <th>13</th>\n",
       "      <td>14</td>\n",
       "      <td>0.010809</td>\n",
       "      <td>0.116926</td>\n",
       "      <td>0.986667</td>\n",
       "    </tr>\n",
       "    <tr>\n",
       "      <th>14</th>\n",
       "      <td>15</td>\n",
       "      <td>0.013546</td>\n",
       "      <td>0.121563</td>\n",
       "      <td>0.983333</td>\n",
       "    </tr>\n",
       "    <tr>\n",
       "      <th>15</th>\n",
       "      <td>16</td>\n",
       "      <td>0.011066</td>\n",
       "      <td>0.143220</td>\n",
       "      <td>0.983333</td>\n",
       "    </tr>\n",
       "    <tr>\n",
       "      <th>16</th>\n",
       "      <td>17</td>\n",
       "      <td>0.009663</td>\n",
       "      <td>0.092553</td>\n",
       "      <td>0.983333</td>\n",
       "    </tr>\n",
       "    <tr>\n",
       "      <th>17</th>\n",
       "      <td>18</td>\n",
       "      <td>0.008457</td>\n",
       "      <td>0.076930</td>\n",
       "      <td>0.983333</td>\n",
       "    </tr>\n",
       "    <tr>\n",
       "      <th>18</th>\n",
       "      <td>19</td>\n",
       "      <td>0.011004</td>\n",
       "      <td>0.098570</td>\n",
       "      <td>0.980000</td>\n",
       "    </tr>\n",
       "    <tr>\n",
       "      <th>19</th>\n",
       "      <td>20</td>\n",
       "      <td>0.009290</td>\n",
       "      <td>0.073343</td>\n",
       "      <td>0.983333</td>\n",
       "    </tr>\n",
       "  </tbody>\n",
       "</table>\n",
       "</div>"
      ],
      "text/plain": [
       "    epoch  train_loss  valid_loss  accuracy\n",
       "0       1    0.021245    0.123908  0.980000\n",
       "1       2    0.011410    0.088947  0.986667\n",
       "2       3    0.007762    0.075918  0.990000\n",
       "3       4    0.008306    0.109976  0.986667\n",
       "4       5    0.007533    0.078560  0.980000\n",
       "5       6    0.010514    0.079959  0.986667\n",
       "6       7    0.008497    0.074331  0.990000\n",
       "7       8    0.007908    0.094478  0.986667\n",
       "8       9    0.008733    0.103178  0.990000\n",
       "9      10    0.007292    0.086293  0.990000\n",
       "10     11    0.007617    0.094433  0.983333\n",
       "11     12    0.012549    0.100814  0.983333\n",
       "12     13    0.010084    0.081244  0.983333\n",
       "13     14    0.010809    0.116926  0.986667\n",
       "14     15    0.013546    0.121563  0.983333\n",
       "15     16    0.011066    0.143220  0.983333\n",
       "16     17    0.009663    0.092553  0.983333\n",
       "17     18    0.008457    0.076930  0.983333\n",
       "18     19    0.011004    0.098570  0.980000\n",
       "19     20    0.009290    0.073343  0.983333"
      ]
     },
     "execution_count": 42,
     "metadata": {},
     "output_type": "execute_result"
    }
   ],
   "source": [
    "res"
   ]
  },
  {
   "cell_type": "code",
   "execution_count": 47,
   "metadata": {},
   "outputs": [
    {
     "data": {
      "image/png": "[encoded data removed]",
      "text/plain": [
       "<Figure size 432x288 with 1 Axes>"
      ]
     },
     "metadata": {},
     "output_type": "display_data"
    },
    {
     "data": {
      "image/png": "[encoded data removed]",
      "text/plain": [
       "<Figure size 432x288 with 1 Axes>"
      ]
     },
     "metadata": {},
     "output_type": "display_data"
    }
   ],
   "source": [
    "epochs = range(len(res))\n",
    "plt.plot(res['epoch'], res['accuracy'], 'b', label='Validation acc')\n",
    "plt.title('Validation accuracy of Resnet101 model')\n",
    "plt.xlabel('epoch')\n",
    "plt.ylabel('accuracy')\n",
    "plt.legend()\n",
    " \n",
    "plt.figure()\n",
    " \n",
    "plt.plot(res['epoch'], res['train_loss'], 'b', label='Training loss')\n",
    "plt.plot(res['epoch'], res['valid_loss'], 'r', label='Validation loss')\n",
    "plt.title('Training and validation loss of Resnet101 model')\n",
    "plt.xlabel('epoch')\n",
    "plt.ylabel('loss')\n",
    "plt.legend()\n",
    " \n",
    "plt.show()"
   ]
  },
  {
   "cell_type": "code",
   "execution_count": 51,
   "metadata": {
    "collapsed": true
   },
   "outputs": [],
   "source": [
    "compare = pd.read_csv('/Users/meteor.lxy/Desktop/compare.csv')"
   ]
  },
  {
   "cell_type": "code",
   "execution_count": 52,
   "metadata": {},
   "outputs": [
    {
     "data": {
      "text/html": [
       "<div>\n",
       "<style scoped>\n",
       "    .dataframe tbody tr th:only-of-type {\n",
       "        vertical-align: middle;\n",
       "    }\n",
       "\n",
       "    .dataframe tbody tr th {\n",
       "        vertical-align: top;\n",
       "    }\n",
       "\n",
       "    .dataframe thead th {\n",
       "        text-align: right;\n",
       "    }\n",
       "</style>\n",
       "<table border=\"1\" class=\"dataframe\">\n",
       "  <thead>\n",
       "    <tr style=\"text-align: right;\">\n",
       "      <th></th>\n",
       "      <th>Name</th>\n",
       "      <th>Score</th>\n",
       "    </tr>\n",
       "  </thead>\n",
       "  <tbody>\n",
       "    <tr>\n",
       "      <th>0</th>\n",
       "      <td>Scratch</td>\n",
       "      <td>0.64966</td>\n",
       "    </tr>\n",
       "    <tr>\n",
       "      <th>1</th>\n",
       "      <td>VGG16</td>\n",
       "      <td>0.97428</td>\n",
       "    </tr>\n",
       "    <tr>\n",
       "      <th>2</th>\n",
       "      <td>Resnet101</td>\n",
       "      <td>0.98963</td>\n",
       "    </tr>\n",
       "  </tbody>\n",
       "</table>\n",
       "</div>"
      ],
      "text/plain": [
       "        Name    Score\n",
       "0    Scratch  0.64966\n",
       "1      VGG16  0.97428\n",
       "2  Resnet101  0.98963"
      ]
     },
     "execution_count": 52,
     "metadata": {},
     "output_type": "execute_result"
    }
   ],
   "source": [
    "compare"
   ]
  },
  {
   "cell_type": "code",
   "execution_count": 57,
   "metadata": {},
   "outputs": [
    {
     "data": {
      "image/png": "[encoded data removed]",
      "text/plain": [
       "<Figure size 432x288 with 1 Axes>"
      ]
     },
     "metadata": {},
     "output_type": "display_data"
    }
   ],
   "source": [
    "plt.plot(compare['Name'],compare['Score'],'ro-')\n",
    "plt.xlabel('model')\n",
    "plt.ylabel('score from kaggle')\n",
    "plt.title('model comparision')\n",
    "plt.show()"
   ]
  },
  {
   "cell_type": "code",
   "execution_count": 24,
   "metadata": {},
   "outputs": [
    {
     "data": {
      "image/png": "[encoded data removed]",
      "text/plain": [
       "<Figure size 432x288 with 1 Axes>"
      ]
     },
     "metadata": {},
     "output_type": "display_data"
    },
    {
     "data": {
      "image/png": "[encoded data removed]",
      "text/plain": [
       "<Figure size 432x288 with 1 Axes>"
      ]
     },
     "metadata": {},
     "output_type": "display_data"
    }
   ],
   "source": [
    "#check performance\n",
    "acc = model.history.history['acc']\n",
    "val_acc = model.history.history['val_acc']\n",
    "loss = model.history.history['loss']\n",
    "val_loss = model.history.history['val_loss']\n",
    " \n",
    "epochs = range(len(acc))\n",
    " \n",
    "plt.plot(epochs, acc, 'b', label='Training acc')\n",
    "plt.plot(epochs, val_acc, 'r', label='Validation acc')\n",
    "plt.title('Training and validation accuracy of scratch model')\n",
    "plt.xlabel('epoch')\n",
    "plt.ylabel('accuracy')\n",
    "plt.legend()\n",
    " \n",
    "plt.figure()\n",
    " \n",
    "plt.plot(epochs, loss, 'b', label='Training loss')\n",
    "plt.plot(epochs, val_loss, 'r', label='Validation loss')\n",
    "plt.title('Training and validation loss of scratch model')\n",
    "plt.xlabel('epoch')\n",
    "plt.ylabel('BCE')\n",
    "plt.legend()\n",
    " \n",
    "plt.show()"
   ]
  },
  {
   "cell_type": "code",
   "execution_count": 27,
   "metadata": {
    "collapsed": true
   },
   "outputs": [],
   "source": [
    "pred_prob = model.predict_proba(x_test)"
   ]
  },
  {
   "cell_type": "code",
   "execution_count": 33,
   "metadata": {},
   "outputs": [
    {
     "data": {
      "text/html": [
       "<div>\n",
       "<style scoped>\n",
       "    .dataframe tbody tr th:only-of-type {\n",
       "        vertical-align: middle;\n",
       "    }\n",
       "\n",
       "    .dataframe tbody tr th {\n",
       "        vertical-align: top;\n",
       "    }\n",
       "\n",
       "    .dataframe thead th {\n",
       "        text-align: right;\n",
       "    }\n",
       "</style>\n",
       "<table border=\"1\" class=\"dataframe\">\n",
       "  <thead>\n",
       "    <tr style=\"text-align: right;\">\n",
       "      <th></th>\n",
       "      <th>id</th>\n",
       "      <th>Score</th>\n",
       "    </tr>\n",
       "  </thead>\n",
       "  <tbody>\n",
       "    <tr>\n",
       "      <th>0</th>\n",
       "      <td>1500</td>\n",
       "      <td>1.000000e+00</td>\n",
       "    </tr>\n",
       "    <tr>\n",
       "      <th>1</th>\n",
       "      <td>1501</td>\n",
       "      <td>1.000000e+00</td>\n",
       "    </tr>\n",
       "    <tr>\n",
       "      <th>2</th>\n",
       "      <td>1502</td>\n",
       "      <td>1.000000e+00</td>\n",
       "    </tr>\n",
       "    <tr>\n",
       "      <th>3</th>\n",
       "      <td>1503</td>\n",
       "      <td>1.000000e+00</td>\n",
       "    </tr>\n",
       "    <tr>\n",
       "      <th>4</th>\n",
       "      <td>1504</td>\n",
       "      <td>1.000000e+00</td>\n",
       "    </tr>\n",
       "    <tr>\n",
       "      <th>5</th>\n",
       "      <td>1505</td>\n",
       "      <td>0.000000e+00</td>\n",
       "    </tr>\n",
       "    <tr>\n",
       "      <th>6</th>\n",
       "      <td>1506</td>\n",
       "      <td>1.000000e+00</td>\n",
       "    </tr>\n",
       "    <tr>\n",
       "      <th>7</th>\n",
       "      <td>1507</td>\n",
       "      <td>1.000000e+00</td>\n",
       "    </tr>\n",
       "    <tr>\n",
       "      <th>8</th>\n",
       "      <td>1508</td>\n",
       "      <td>1.000000e+00</td>\n",
       "    </tr>\n",
       "    <tr>\n",
       "      <th>9</th>\n",
       "      <td>1509</td>\n",
       "      <td>1.000000e+00</td>\n",
       "    </tr>\n",
       "    <tr>\n",
       "      <th>10</th>\n",
       "      <td>1510</td>\n",
       "      <td>0.000000e+00</td>\n",
       "    </tr>\n",
       "    <tr>\n",
       "      <th>11</th>\n",
       "      <td>1511</td>\n",
       "      <td>1.000000e+00</td>\n",
       "    </tr>\n",
       "    <tr>\n",
       "      <th>12</th>\n",
       "      <td>1512</td>\n",
       "      <td>1.000000e+00</td>\n",
       "    </tr>\n",
       "    <tr>\n",
       "      <th>13</th>\n",
       "      <td>1513</td>\n",
       "      <td>1.000000e+00</td>\n",
       "    </tr>\n",
       "    <tr>\n",
       "      <th>14</th>\n",
       "      <td>1514</td>\n",
       "      <td>0.000000e+00</td>\n",
       "    </tr>\n",
       "    <tr>\n",
       "      <th>15</th>\n",
       "      <td>1515</td>\n",
       "      <td>2.526061e-05</td>\n",
       "    </tr>\n",
       "    <tr>\n",
       "      <th>16</th>\n",
       "      <td>1516</td>\n",
       "      <td>1.000000e+00</td>\n",
       "    </tr>\n",
       "    <tr>\n",
       "      <th>17</th>\n",
       "      <td>1517</td>\n",
       "      <td>1.000000e+00</td>\n",
       "    </tr>\n",
       "    <tr>\n",
       "      <th>18</th>\n",
       "      <td>1518</td>\n",
       "      <td>1.000000e+00</td>\n",
       "    </tr>\n",
       "    <tr>\n",
       "      <th>19</th>\n",
       "      <td>1519</td>\n",
       "      <td>0.000000e+00</td>\n",
       "    </tr>\n",
       "    <tr>\n",
       "      <th>20</th>\n",
       "      <td>1520</td>\n",
       "      <td>0.000000e+00</td>\n",
       "    </tr>\n",
       "    <tr>\n",
       "      <th>21</th>\n",
       "      <td>1521</td>\n",
       "      <td>3.167091e-29</td>\n",
       "    </tr>\n",
       "    <tr>\n",
       "      <th>22</th>\n",
       "      <td>1522</td>\n",
       "      <td>1.000000e+00</td>\n",
       "    </tr>\n",
       "    <tr>\n",
       "      <th>23</th>\n",
       "      <td>1523</td>\n",
       "      <td>0.000000e+00</td>\n",
       "    </tr>\n",
       "    <tr>\n",
       "      <th>24</th>\n",
       "      <td>1524</td>\n",
       "      <td>1.855992e-16</td>\n",
       "    </tr>\n",
       "    <tr>\n",
       "      <th>25</th>\n",
       "      <td>1525</td>\n",
       "      <td>1.000000e+00</td>\n",
       "    </tr>\n",
       "    <tr>\n",
       "      <th>26</th>\n",
       "      <td>1526</td>\n",
       "      <td>1.000000e+00</td>\n",
       "    </tr>\n",
       "    <tr>\n",
       "      <th>27</th>\n",
       "      <td>1527</td>\n",
       "      <td>0.000000e+00</td>\n",
       "    </tr>\n",
       "    <tr>\n",
       "      <th>28</th>\n",
       "      <td>1528</td>\n",
       "      <td>1.000000e+00</td>\n",
       "    </tr>\n",
       "    <tr>\n",
       "      <th>29</th>\n",
       "      <td>1529</td>\n",
       "      <td>0.000000e+00</td>\n",
       "    </tr>\n",
       "    <tr>\n",
       "      <th>...</th>\n",
       "      <td>...</td>\n",
       "      <td>...</td>\n",
       "    </tr>\n",
       "    <tr>\n",
       "      <th>528</th>\n",
       "      <td>2028</td>\n",
       "      <td>1.000000e+00</td>\n",
       "    </tr>\n",
       "    <tr>\n",
       "      <th>529</th>\n",
       "      <td>2029</td>\n",
       "      <td>1.000000e+00</td>\n",
       "    </tr>\n",
       "    <tr>\n",
       "      <th>530</th>\n",
       "      <td>2030</td>\n",
       "      <td>1.000000e+00</td>\n",
       "    </tr>\n",
       "    <tr>\n",
       "      <th>531</th>\n",
       "      <td>2031</td>\n",
       "      <td>1.000000e+00</td>\n",
       "    </tr>\n",
       "    <tr>\n",
       "      <th>532</th>\n",
       "      <td>2032</td>\n",
       "      <td>1.000000e+00</td>\n",
       "    </tr>\n",
       "    <tr>\n",
       "      <th>533</th>\n",
       "      <td>2033</td>\n",
       "      <td>0.000000e+00</td>\n",
       "    </tr>\n",
       "    <tr>\n",
       "      <th>534</th>\n",
       "      <td>2034</td>\n",
       "      <td>1.000000e+00</td>\n",
       "    </tr>\n",
       "    <tr>\n",
       "      <th>535</th>\n",
       "      <td>2035</td>\n",
       "      <td>1.000000e+00</td>\n",
       "    </tr>\n",
       "    <tr>\n",
       "      <th>536</th>\n",
       "      <td>2036</td>\n",
       "      <td>1.000000e+00</td>\n",
       "    </tr>\n",
       "    <tr>\n",
       "      <th>537</th>\n",
       "      <td>2037</td>\n",
       "      <td>1.000000e+00</td>\n",
       "    </tr>\n",
       "    <tr>\n",
       "      <th>538</th>\n",
       "      <td>2038</td>\n",
       "      <td>1.000000e+00</td>\n",
       "    </tr>\n",
       "    <tr>\n",
       "      <th>539</th>\n",
       "      <td>2039</td>\n",
       "      <td>1.000000e+00</td>\n",
       "    </tr>\n",
       "    <tr>\n",
       "      <th>540</th>\n",
       "      <td>2040</td>\n",
       "      <td>0.000000e+00</td>\n",
       "    </tr>\n",
       "    <tr>\n",
       "      <th>541</th>\n",
       "      <td>2041</td>\n",
       "      <td>1.000000e+00</td>\n",
       "    </tr>\n",
       "    <tr>\n",
       "      <th>542</th>\n",
       "      <td>2042</td>\n",
       "      <td>1.000000e+00</td>\n",
       "    </tr>\n",
       "    <tr>\n",
       "      <th>543</th>\n",
       "      <td>2043</td>\n",
       "      <td>1.000000e+00</td>\n",
       "    </tr>\n",
       "    <tr>\n",
       "      <th>544</th>\n",
       "      <td>2044</td>\n",
       "      <td>1.000000e+00</td>\n",
       "    </tr>\n",
       "    <tr>\n",
       "      <th>545</th>\n",
       "      <td>2045</td>\n",
       "      <td>7.546310e-12</td>\n",
       "    </tr>\n",
       "    <tr>\n",
       "      <th>546</th>\n",
       "      <td>2046</td>\n",
       "      <td>1.000000e+00</td>\n",
       "    </tr>\n",
       "    <tr>\n",
       "      <th>547</th>\n",
       "      <td>2047</td>\n",
       "      <td>2.122606e-13</td>\n",
       "    </tr>\n",
       "    <tr>\n",
       "      <th>548</th>\n",
       "      <td>2048</td>\n",
       "      <td>0.000000e+00</td>\n",
       "    </tr>\n",
       "    <tr>\n",
       "      <th>549</th>\n",
       "      <td>2049</td>\n",
       "      <td>1.000000e+00</td>\n",
       "    </tr>\n",
       "    <tr>\n",
       "      <th>550</th>\n",
       "      <td>2050</td>\n",
       "      <td>1.000000e+00</td>\n",
       "    </tr>\n",
       "    <tr>\n",
       "      <th>551</th>\n",
       "      <td>2051</td>\n",
       "      <td>1.000000e+00</td>\n",
       "    </tr>\n",
       "    <tr>\n",
       "      <th>552</th>\n",
       "      <td>2052</td>\n",
       "      <td>1.000000e+00</td>\n",
       "    </tr>\n",
       "    <tr>\n",
       "      <th>553</th>\n",
       "      <td>2053</td>\n",
       "      <td>1.000000e+00</td>\n",
       "    </tr>\n",
       "    <tr>\n",
       "      <th>554</th>\n",
       "      <td>2054</td>\n",
       "      <td>1.000000e+00</td>\n",
       "    </tr>\n",
       "    <tr>\n",
       "      <th>555</th>\n",
       "      <td>2055</td>\n",
       "      <td>1.000000e+00</td>\n",
       "    </tr>\n",
       "    <tr>\n",
       "      <th>556</th>\n",
       "      <td>2056</td>\n",
       "      <td>1.000000e+00</td>\n",
       "    </tr>\n",
       "    <tr>\n",
       "      <th>557</th>\n",
       "      <td>2057</td>\n",
       "      <td>9.999659e-01</td>\n",
       "    </tr>\n",
       "  </tbody>\n",
       "</table>\n",
       "<p>558 rows × 2 columns</p>\n",
       "</div>"
      ],
      "text/plain": [
       "       id         Score\n",
       "0    1500  1.000000e+00\n",
       "1    1501  1.000000e+00\n",
       "2    1502  1.000000e+00\n",
       "3    1503  1.000000e+00\n",
       "4    1504  1.000000e+00\n",
       "5    1505  0.000000e+00\n",
       "6    1506  1.000000e+00\n",
       "7    1507  1.000000e+00\n",
       "8    1508  1.000000e+00\n",
       "9    1509  1.000000e+00\n",
       "10   1510  0.000000e+00\n",
       "11   1511  1.000000e+00\n",
       "12   1512  1.000000e+00\n",
       "13   1513  1.000000e+00\n",
       "14   1514  0.000000e+00\n",
       "15   1515  2.526061e-05\n",
       "16   1516  1.000000e+00\n",
       "17   1517  1.000000e+00\n",
       "18   1518  1.000000e+00\n",
       "19   1519  0.000000e+00\n",
       "20   1520  0.000000e+00\n",
       "21   1521  3.167091e-29\n",
       "22   1522  1.000000e+00\n",
       "23   1523  0.000000e+00\n",
       "24   1524  1.855992e-16\n",
       "25   1525  1.000000e+00\n",
       "26   1526  1.000000e+00\n",
       "27   1527  0.000000e+00\n",
       "28   1528  1.000000e+00\n",
       "29   1529  0.000000e+00\n",
       "..    ...           ...\n",
       "528  2028  1.000000e+00\n",
       "529  2029  1.000000e+00\n",
       "530  2030  1.000000e+00\n",
       "531  2031  1.000000e+00\n",
       "532  2032  1.000000e+00\n",
       "533  2033  0.000000e+00\n",
       "534  2034  1.000000e+00\n",
       "535  2035  1.000000e+00\n",
       "536  2036  1.000000e+00\n",
       "537  2037  1.000000e+00\n",
       "538  2038  1.000000e+00\n",
       "539  2039  1.000000e+00\n",
       "540  2040  0.000000e+00\n",
       "541  2041  1.000000e+00\n",
       "542  2042  1.000000e+00\n",
       "543  2043  1.000000e+00\n",
       "544  2044  1.000000e+00\n",
       "545  2045  7.546310e-12\n",
       "546  2046  1.000000e+00\n",
       "547  2047  2.122606e-13\n",
       "548  2048  0.000000e+00\n",
       "549  2049  1.000000e+00\n",
       "550  2050  1.000000e+00\n",
       "551  2051  1.000000e+00\n",
       "552  2052  1.000000e+00\n",
       "553  2053  1.000000e+00\n",
       "554  2054  1.000000e+00\n",
       "555  2055  1.000000e+00\n",
       "556  2056  1.000000e+00\n",
       "557  2057  9.999659e-01\n",
       "\n",
       "[558 rows x 2 columns]"
      ]
     },
     "execution_count": 33,
     "metadata": {},
     "output_type": "execute_result"
    }
   ],
   "source": [
    "pd.read_csv('~/Desktop/baseline.csv')"
   ]
  }
 ],
 "metadata": {
  "kernelspec": {
   "display_name": "Python 3",
   "language": "python",
   "name": "python3"
  },
  "language_info": {
   "codemirror_mode": {
    "name": "ipython",
    "version": 3
   },
   "file_extension": ".py",
   "mimetype": "text/x-python",
   "name": "python",
   "nbconvert_exporter": "python",
   "pygments_lexer": "ipython3",
   "version": "3.6.7"
  }
 },
 "nbformat": 4,
 "nbformat_minor": 2
}
