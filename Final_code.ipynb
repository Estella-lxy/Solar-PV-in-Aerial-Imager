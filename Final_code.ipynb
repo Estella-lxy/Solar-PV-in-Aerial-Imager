{
 "cells": [
  {
   "cell_type": "code",
   "execution_count": 2,
   "metadata": {
    "collapsed": true
   },
   "outputs": [],
   "source": [
    "import numpy as np\n",
    "import pandas as pd\n",
    "import fastai\n",
    "from fastai import *\n",
    "from fastai.imports import *\n",
    "from fastai.vision import *"
   ]
  },
  {
   "cell_type": "code",
   "execution_count": 35,
   "metadata": {
    "collapsed": true
   },
   "outputs": [],
   "source": [
    "path = 'data'\n",
    "\n",
    "data = ImageDataBunch.from_csv(path, folder='train', suffix='.tif', test = 'test',\n",
    "                               ds_tfms=get_transforms(), size =224, padding_mode='zeros')"
   ]
  },
  {
   "cell_type": "code",
   "execution_count": 13,
   "metadata": {},
   "outputs": [
    {
     "data": {
      "text/plain": [
       "ImageDataBunch;\n",
       "\n",
       "Train: LabelList\n",
       "y: CategoryList (1200 items)\n",
       "[Category 0, Category 0, Category 1, Category 1, Category 0]...\n",
       "Path: data\n",
       "x: ImageItemList (1200 items)\n",
       "[Image (3, 101, 101), Image (3, 101, 101), Image (3, 101, 101), Image (3, 101, 101), Image (3, 101, 101)]...\n",
       "Path: data;\n",
       "\n",
       "Valid: LabelList\n",
       "y: CategoryList (300 items)\n",
       "[Category 0, Category 1, Category 0, Category 0, Category 0]...\n",
       "Path: data\n",
       "x: ImageItemList (300 items)\n",
       "[Image (3, 101, 101), Image (3, 101, 101), Image (3, 101, 101), Image (3, 101, 101), Image (3, 101, 101)]...\n",
       "Path: data;\n",
       "\n",
       "Test: LabelList\n",
       "y: EmptyLabelList (558 items)\n",
       "[EmptyLabel , EmptyLabel , EmptyLabel , EmptyLabel , EmptyLabel ]...\n",
       "Path: .\n",
       "x: ImageItemList (558 items)\n",
       "[Image (3, 101, 101), Image (3, 101, 101), Image (3, 101, 101), Image (3, 101, 101), Image (3, 101, 101)]...\n",
       "Path: data"
      ]
     },
     "execution_count": 13,
     "metadata": {},
     "output_type": "execute_result"
    }
   ],
   "source": [
    "data"
   ]
  },
  {
   "cell_type": "code",
   "execution_count": 28,
   "metadata": {
    "collapsed": true
   },
   "outputs": [],
   "source": [
    "learn = create_cnn(data, models.resnet101, metrics=accuracy, model_dir=Path('/content'))"
   ]
  },
  {
   "cell_type": "code",
   "execution_count": 33,
   "metadata": {},
   "outputs": [
    {
     "data": {
      "text/html": [
       "Total time: 11:18 <p><table style='width:300px; margin-bottom:10px'>\n",
       "  <tr>\n",
       "    <th>epoch</th>\n",
       "    <th>train_loss</th>\n",
       "    <th>valid_loss</th>\n",
       "    <th>accuracy</th>\n",
       "  </tr>\n",
       "  <tr>\n",
       "    <th>1</th>\n",
       "    <th>0.021245</th>\n",
       "    <th>0.123908</th>\n",
       "    <th>0.980000</th>\n",
       "  </tr>\n",
       "  <tr>\n",
       "    <th>2</th>\n",
       "    <th>0.011410</th>\n",
       "    <th>0.088947</th>\n",
       "    <th>0.986667</th>\n",
       "  </tr>\n",
       "  <tr>\n",
       "    <th>3</th>\n",
       "    <th>0.007762</th>\n",
       "    <th>0.075918</th>\n",
       "    <th>0.990000</th>\n",
       "  </tr>\n",
       "  <tr>\n",
       "    <th>4</th>\n",
       "    <th>0.008306</th>\n",
       "    <th>0.109976</th>\n",
       "    <th>0.986667</th>\n",
       "  </tr>\n",
       "  <tr>\n",
       "    <th>5</th>\n",
       "    <th>0.007533</th>\n",
       "    <th>0.078560</th>\n",
       "    <th>0.980000</th>\n",
       "  </tr>\n",
       "  <tr>\n",
       "    <th>6</th>\n",
       "    <th>0.010514</th>\n",
       "    <th>0.079959</th>\n",
       "    <th>0.986667</th>\n",
       "  </tr>\n",
       "  <tr>\n",
       "    <th>7</th>\n",
       "    <th>0.008497</th>\n",
       "    <th>0.074331</th>\n",
       "    <th>0.990000</th>\n",
       "  </tr>\n",
       "  <tr>\n",
       "    <th>8</th>\n",
       "    <th>0.007908</th>\n",
       "    <th>0.094478</th>\n",
       "    <th>0.986667</th>\n",
       "  </tr>\n",
       "  <tr>\n",
       "    <th>9</th>\n",
       "    <th>0.008733</th>\n",
       "    <th>0.103178</th>\n",
       "    <th>0.990000</th>\n",
       "  </tr>\n",
       "  <tr>\n",
       "    <th>10</th>\n",
       "    <th>0.007292</th>\n",
       "    <th>0.086293</th>\n",
       "    <th>0.990000</th>\n",
       "  </tr>\n",
       "  <tr>\n",
       "    <th>11</th>\n",
       "    <th>0.007617</th>\n",
       "    <th>0.094433</th>\n",
       "    <th>0.983333</th>\n",
       "  </tr>\n",
       "  <tr>\n",
       "    <th>12</th>\n",
       "    <th>0.012549</th>\n",
       "    <th>0.100814</th>\n",
       "    <th>0.983333</th>\n",
       "  </tr>\n",
       "  <tr>\n",
       "    <th>13</th>\n",
       "    <th>0.010084</th>\n",
       "    <th>0.081244</th>\n",
       "    <th>0.983333</th>\n",
       "  </tr>\n",
       "  <tr>\n",
       "    <th>14</th>\n",
       "    <th>0.010809</th>\n",
       "    <th>0.116926</th>\n",
       "    <th>0.986667</th>\n",
       "  </tr>\n",
       "  <tr>\n",
       "    <th>15</th>\n",
       "    <th>0.013546</th>\n",
       "    <th>0.121563</th>\n",
       "    <th>0.983333</th>\n",
       "  </tr>\n",
       "  <tr>\n",
       "    <th>16</th>\n",
       "    <th>0.011066</th>\n",
       "    <th>0.143220</th>\n",
       "    <th>0.983333</th>\n",
       "  </tr>\n",
       "  <tr>\n",
       "    <th>17</th>\n",
       "    <th>0.009663</th>\n",
       "    <th>0.092553</th>\n",
       "    <th>0.983333</th>\n",
       "  </tr>\n",
       "  <tr>\n",
       "    <th>18</th>\n",
       "    <th>0.008457</th>\n",
       "    <th>0.076930</th>\n",
       "    <th>0.983333</th>\n",
       "  </tr>\n",
       "  <tr>\n",
       "    <th>19</th>\n",
       "    <th>0.011004</th>\n",
       "    <th>0.098570</th>\n",
       "    <th>0.980000</th>\n",
       "  </tr>\n",
       "  <tr>\n",
       "    <th>20</th>\n",
       "    <th>0.009290</th>\n",
       "    <th>0.073343</th>\n",
       "    <th>0.983333</th>\n",
       "  </tr>\n",
       "</table>\n"
      ],
      "text/plain": [
       "<IPython.core.display.HTML object>"
      ]
     },
     "metadata": {},
     "output_type": "display_data"
    }
   ],
   "source": [
    "learn.fit(20, 1e-3)"
   ]
  },
  {
   "cell_type": "code",
   "execution_count": 17,
   "metadata": {},
   "outputs": [
    {
     "data": {
      "text/plain": [
       "tensor([[1.3734e-04, 9.9986e-01],\n",
       "        [1.0000e+00, 8.8900e-07],\n",
       "        [9.9984e-01, 1.5569e-04],\n",
       "        ...,\n",
       "        [9.9953e-01, 4.6783e-04],\n",
       "        [9.9985e-01, 1.4737e-04],\n",
       "        [9.9803e-01, 1.9734e-03]])"
      ]
     },
     "execution_count": 17,
     "metadata": {},
     "output_type": "execute_result"
    }
   ],
   "source": [
    "preds, y = learn.get_preds(DatasetType.Test)\n",
    "preds"
   ]
  },
  {
   "cell_type": "code",
   "execution_count": 20,
   "metadata": {
    "collapsed": true
   },
   "outputs": [],
   "source": [
    "preds, y = learn.get_preds(DatasetType.Test)\n",
    "\n",
    "labels = []\n",
    "for img in os.listdir('./data/test'):\n",
    "    labels.append(getLabel1(int(img.split('.')[0])))\n",
    "    pass\n",
    "\n",
    "preds = np.array(preds)\n",
    "pred = pd.DataFrame({'id':labels,\n",
    "                    'score':preds[:,1]})\n",
    "pred.to_csv('predictions.csv', index = False)"
   ]
  }
 ],
 "metadata": {
  "kernelspec": {
   "display_name": "Python 3",
   "language": "python",
   "name": "python3"
  },
  "language_info": {
   "codemirror_mode": {
    "name": "ipython",
    "version": 3
   },
   "file_extension": ".py",
   "mimetype": "text/x-python",
   "name": "python",
   "nbconvert_exporter": "python",
   "pygments_lexer": "ipython3",
   "version": "3.6.7"
  }
 },
 "nbformat": 4,
 "nbformat_minor": 2
}
